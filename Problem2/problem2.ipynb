{
 "cells": [
  {
   "cell_type": "markdown",
   "id": "4d78b5bc",
   "metadata": {},
   "source": [
    "# Birthday Cake Candles"
   ]
  },
  {
   "cell_type": "code",
   "execution_count": 5,
   "id": "e4b083ba",
   "metadata": {},
   "outputs": [
    {
     "name": "stdout",
     "output_type": "stream",
     "text": [
      "4\n",
      "3 2 1 3\n",
      "2\n"
     ]
    }
   ],
   "source": [
    "import os\n",
    "import random\n",
    "import re\n",
    "import sys\n",
    "from collections import Counter\n",
    "\n",
    "def birthdayCakeCandles(candles):\n",
    "    return Counter(candles)[max(candles)]\n",
    "\n",
    "if __name__ == '__main__':\n",
    "\n",
    "    candles_count = int(input().strip())\n",
    "\n",
    "    candles = list(map(int, input().rstrip().split()))\n",
    "\n",
    "    result = birthdayCakeCandles(candles)\n",
    "    \n",
    "    print(result)"
   ]
  },
  {
   "cell_type": "markdown",
   "id": "3c69caba",
   "metadata": {},
   "source": [
    "# Number Line Jumps"
   ]
  },
  {
   "cell_type": "code",
   "execution_count": 6,
   "id": "20c66bf5",
   "metadata": {},
   "outputs": [
    {
     "name": "stdout",
     "output_type": "stream",
     "text": [
      "0 2 5 3\n",
      "NO\n"
     ]
    }
   ],
   "source": [
    "def kangaroo(x1, v1, x2, v2):\n",
    "    if v1 == v2 :\n",
    "        if x1 == x2 :\n",
    "            return 'YES'\n",
    "        else :\n",
    "            return 'NO'\n",
    "    elif v1 < v2 :\n",
    "        if x1 < x2 :\n",
    "            return 'NO'\n",
    "        while x2 < x1 :\n",
    "            x1 += v1\n",
    "            x2 += v2\n",
    "        if x1==x2 :\n",
    "            return 'YES'\n",
    "        else :\n",
    "            return 'NO'\n",
    "    else :\n",
    "        if x2 < x1 :\n",
    "            return 'NO'\n",
    "        while x1 < x2 :\n",
    "            x1 += v1\n",
    "            x2 += v2\n",
    "        if x1==x2 :\n",
    "            return 'YES'\n",
    "        else :\n",
    "            return 'NO'\n",
    "        \n",
    "if __name__ == '__main__':\n",
    "    first_multiple_input = input().rstrip().split()\n",
    "\n",
    "    x1 = int(first_multiple_input[0])\n",
    "\n",
    "    v1 = int(first_multiple_input[1])\n",
    "\n",
    "    x2 = int(first_multiple_input[2])\n",
    "\n",
    "    v2 = int(first_multiple_input[3])\n",
    "\n",
    "    result = kangaroo(x1, v1, x2, v2)\n",
    "    \n",
    "    print(result)"
   ]
  },
  {
   "cell_type": "markdown",
   "id": "0d51a5db",
   "metadata": {},
   "source": [
    "# Viral Advertising"
   ]
  },
  {
   "cell_type": "code",
   "execution_count": 1,
   "id": "ff4b9252",
   "metadata": {},
   "outputs": [
    {
     "name": "stdout",
     "output_type": "stream",
     "text": [
      "3\n",
      "9\n"
     ]
    }
   ],
   "source": [
    "def viralAdvertising(n):\n",
    "    likes = 0\n",
    "    shared = 5\n",
    "    for _ in range(n) :\n",
    "        like = int(shared/2)\n",
    "        likes += like\n",
    "        shared = like*3\n",
    "    return likes\n",
    "\n",
    "if __name__ == '__main__':\n",
    "    n = int(input().strip())\n",
    "\n",
    "    result = viralAdvertising(n)\n",
    "\n",
    "    print(result)"
   ]
  },
  {
   "cell_type": "markdown",
   "id": "d9325d97",
   "metadata": {},
   "source": [
    "# Recursive Digit Sum"
   ]
  },
  {
   "cell_type": "code",
   "execution_count": 2,
   "id": "cd65c3c2",
   "metadata": {},
   "outputs": [
    {
     "name": "stdout",
     "output_type": "stream",
     "text": [
      "148 3\n",
      "3\n"
     ]
    }
   ],
   "source": [
    "def superDigit(n, k): \n",
    "    if k == len(str(n)) :\n",
    "        n = k*sum([int(i) for i in list(str(n))])\n",
    "    if int(n) < 10 :\n",
    "        return n\n",
    "    return(superDigit(sum([int(i) for i in list(str(n))]), 1))\n",
    "\n",
    "if __name__ == '__main__':\n",
    "    first_multiple_input = input().rstrip().split()\n",
    "\n",
    "    n = first_multiple_input[0]\n",
    "\n",
    "    k = int(first_multiple_input[1])\n",
    "\n",
    "    result = superDigit(n, k)\n",
    "    \n",
    "    print(result)"
   ]
  },
  {
   "cell_type": "markdown",
   "id": "0094b0aa",
   "metadata": {},
   "source": [
    "# Insertion Sort - Part 1"
   ]
  },
  {
   "cell_type": "code",
   "execution_count": 3,
   "id": "d61f3eea",
   "metadata": {},
   "outputs": [
    {
     "name": "stdout",
     "output_type": "stream",
     "text": [
      "5\n",
      "2 4 6 8 3\n",
      "2 4 6 8 8\n",
      "2 4 6 6 8\n",
      "2 4 4 6 8\n",
      "2 3 4 6 8\n"
     ]
    }
   ],
   "source": [
    "def insertionSort1(n, arr):\n",
    "    m = arr[-1]\n",
    "    j = n-2\n",
    "    while m < arr[j] and j >= 0:\n",
    "        arr[j+1] = arr[j]   \n",
    "        j -= 1\n",
    "        print(' '.join(map(str,list(arr))))\n",
    "    arr[j+1] = m\n",
    "    print(' '.join(map(str,list(arr))))\n",
    "        \n",
    "if __name__ == '__main__':\n",
    "    n = int(input().strip())\n",
    "\n",
    "    arr = list(map(int, input().rstrip().split()))\n",
    "\n",
    "    insertionSort1(n, arr)"
   ]
  },
  {
   "cell_type": "markdown",
   "id": "ef4bb30b",
   "metadata": {},
   "source": [
    "# Insertion Sort - Part 2"
   ]
  },
  {
   "cell_type": "code",
   "execution_count": 4,
   "id": "b19df51f",
   "metadata": {},
   "outputs": [
    {
     "name": "stdout",
     "output_type": "stream",
     "text": [
      "6\n",
      "1 4 3 5 6 2\n",
      "1 4 3 5 6 2\n",
      "1 3 4 5 6 2\n",
      "1 3 4 5 6 2\n",
      "1 3 4 5 6 2\n",
      "1 2 3 4 5 6\n"
     ]
    }
   ],
   "source": [
    "def insertionSort2(n, arr):\n",
    "    for j in range (n-1) :\n",
    "        if arr[j+1] < arr[j] :\n",
    "            arr = insertionSort1(j+2, arr[:j+2])+arr[j+2:]\n",
    "        print(' '.join(map(str,list(arr))))\n",
    "            \n",
    "def insertionSort1(n, arr):\n",
    "    m = arr[-1]\n",
    "    j = n-2\n",
    "    while m < arr[j] and j >= 0:\n",
    "        arr[j+1] = arr[j]   \n",
    "        j -= 1\n",
    "    arr[j+1] = m\n",
    "    return arr\n",
    "\n",
    "if __name__ == '__main__':\n",
    "    n = int(input().strip())\n",
    "\n",
    "    arr = list(map(int, input().rstrip().split()))\n",
    "\n",
    "    insertionSort2(n, arr)"
   ]
  }
 ],
 "metadata": {
  "kernelspec": {
   "display_name": "Python 3 (ipykernel)",
   "language": "python",
   "name": "python3"
  },
  "language_info": {
   "codemirror_mode": {
    "name": "ipython",
    "version": 3
   },
   "file_extension": ".py",
   "mimetype": "text/x-python",
   "name": "python",
   "nbconvert_exporter": "python",
   "pygments_lexer": "ipython3",
   "version": "3.8.8"
  }
 },
 "nbformat": 4,
 "nbformat_minor": 5
}
