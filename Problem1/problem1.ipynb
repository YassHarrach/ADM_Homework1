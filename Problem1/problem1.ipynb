{
 "cells": [
  {
   "cell_type": "markdown",
   "id": "efcc5233",
   "metadata": {},
   "source": [
    "# Introduction"
   ]
  },
  {
   "cell_type": "markdown",
   "id": "cdbd6419",
   "metadata": {},
   "source": [
    "## 1- Say \"Hello, World!\" with Python"
   ]
  },
  {
   "cell_type": "code",
   "execution_count": 1,
   "id": "2779f70a",
   "metadata": {},
   "outputs": [
    {
     "name": "stdout",
     "output_type": "stream",
     "text": [
      "Hello, World!\n"
     ]
    }
   ],
   "source": [
    "print(\"Hello, World!\")"
   ]
  },
  {
   "cell_type": "markdown",
   "id": "72969297",
   "metadata": {},
   "source": [
    "## 2- Python If-Else"
   ]
  },
  {
   "cell_type": "code",
   "execution_count": 4,
   "id": "dee2e284",
   "metadata": {},
   "outputs": [
    {
     "name": "stdout",
     "output_type": "stream",
     "text": [
      "Weird\n"
     ]
    }
   ],
   "source": [
    "n = 5\n",
    "if n%2 == 1 :\n",
    "    print(\"Weird\")\n",
    "else :\n",
    "    if n >= 2 and n <= 5 or n > 20 :\n",
    "        print(\"Not Weird\")\n",
    "    else :\n",
    "        print(\"Weird\")"
   ]
  },
  {
   "cell_type": "markdown",
   "id": "1fae8e9f",
   "metadata": {},
   "source": [
    "## 3- Arithmetic Operators"
   ]
  },
  {
   "cell_type": "code",
   "execution_count": 6,
   "id": "7b216068",
   "metadata": {},
   "outputs": [
    {
     "name": "stdout",
     "output_type": "stream",
     "text": [
      "5\n",
      "1\n",
      "6\n"
     ]
    }
   ],
   "source": [
    "a = 3\n",
    "b = 2\n",
    "print(a+b)\n",
    "print(a-b)\n",
    "print(a*b)"
   ]
  },
  {
   "cell_type": "markdown",
   "id": "e5229ef8",
   "metadata": {},
   "source": [
    "## 4- Python: Division"
   ]
  },
  {
   "cell_type": "code",
   "execution_count": 9,
   "id": "c847589b",
   "metadata": {},
   "outputs": [
    {
     "name": "stdout",
     "output_type": "stream",
     "text": [
      "1\n",
      "1.3333333333333333\n"
     ]
    }
   ],
   "source": [
    "a = 4\n",
    "b = 3\n",
    "print(a//b)\n",
    "print(a/b)"
   ]
  },
  {
   "cell_type": "markdown",
   "id": "069e9198",
   "metadata": {},
   "source": [
    "## 5- Loops"
   ]
  },
  {
   "cell_type": "code",
   "execution_count": 10,
   "id": "f3b4ff05",
   "metadata": {},
   "outputs": [
    {
     "name": "stdout",
     "output_type": "stream",
     "text": [
      "0\n",
      "1\n",
      "4\n",
      "9\n",
      "16\n"
     ]
    }
   ],
   "source": [
    "n = 5\n",
    "for i in range (n) :\n",
    "    print(i*i)"
   ]
  },
  {
   "cell_type": "markdown",
   "id": "7e645064",
   "metadata": {},
   "source": [
    "## 6- Write a function"
   ]
  },
  {
   "cell_type": "code",
   "execution_count": 11,
   "id": "af8642c9",
   "metadata": {},
   "outputs": [
    {
     "name": "stdout",
     "output_type": "stream",
     "text": [
      "False\n"
     ]
    }
   ],
   "source": [
    "def is_leap(year):\n",
    "    leap = False\n",
    "    \n",
    "    if year%4 == 0 :\n",
    "        if year%100 == 0 :\n",
    "            if year%400 == 0 :\n",
    "                leap = True\n",
    "        else :\n",
    "            leap = True\n",
    "    \n",
    "    return leap\n",
    "\n",
    "year = 1990\n",
    "print(is_leap(year))"
   ]
  },
  {
   "cell_type": "markdown",
   "id": "54911642",
   "metadata": {},
   "source": [
    "## 7- Print Function"
   ]
  },
  {
   "cell_type": "code",
   "execution_count": 15,
   "id": "86587009",
   "metadata": {},
   "outputs": [
    {
     "name": "stdout",
     "output_type": "stream",
     "text": [
      "12345"
     ]
    }
   ],
   "source": [
    "n = 5\n",
    "for i in range (1, n+1) :\n",
    "    print(i, end='')"
   ]
  },
  {
   "cell_type": "markdown",
   "id": "8fe2e8c5",
   "metadata": {},
   "source": [
    "# "
   ]
  },
  {
   "cell_type": "markdown",
   "id": "3b803314",
   "metadata": {},
   "source": [
    "# Data types"
   ]
  },
  {
   "cell_type": "markdown",
   "id": "8068e340",
   "metadata": {},
   "source": [
    "## 1- List Comprehensions"
   ]
  },
  {
   "cell_type": "code",
   "execution_count": 25,
   "id": "5a30561a",
   "metadata": {},
   "outputs": [
    {
     "name": "stdout",
     "output_type": "stream",
     "text": [
      "[[0, 0, 0], [0, 0, 1], [0, 0, 2], [0, 1, 0], [0, 1, 1], [1, 0, 0], [1, 0, 1], [1, 1, 0], [1, 1, 2]]\n"
     ]
    }
   ],
   "source": [
    "import itertools\n",
    "\n",
    "x = 1\n",
    "y = 1\n",
    "z = 2\n",
    "n = 3\n",
    "print([[i,j,k] for i in range(x+1) for j in range(y+1) for k in range(z+1) if i+j+k!=n])\n"
   ]
  },
  {
   "cell_type": "markdown",
   "id": "f272d09b",
   "metadata": {},
   "source": [
    "## 2- Find the Runner-Up Score!"
   ]
  },
  {
   "cell_type": "code",
   "execution_count": 2,
   "id": "21a82644",
   "metadata": {},
   "outputs": [
    {
     "name": "stdout",
     "output_type": "stream",
     "text": [
      "5\n"
     ]
    }
   ],
   "source": [
    "n = 5\n",
    "arr = map(int, '2 3 6 6 5'.split())\n",
    "L = list(set(arr))\n",
    "L.sort()\n",
    "print(L[-2])"
   ]
  },
  {
   "cell_type": "markdown",
   "id": "6240f74f",
   "metadata": {},
   "source": [
    "## 3- Nested Lists"
   ]
  },
  {
   "cell_type": "code",
   "execution_count": 2,
   "id": "3caec537",
   "metadata": {},
   "outputs": [
    {
     "name": "stdout",
     "output_type": "stream",
     "text": [
      "5\n",
      "Harry\n",
      "37.21\n",
      "Berry\n",
      "37.21\n",
      "Tina\n",
      "37.2\n",
      "Akriti\n",
      "41\n",
      "Harsh\n",
      "39\n",
      "Berry\n",
      "Harry\n"
     ]
    }
   ],
   "source": [
    "scores = []\n",
    "records = []\n",
    "for i in range(int(input())):\n",
    "    name = input()\n",
    "    score = float(input())\n",
    "    scores.append(score)\n",
    "    records.append([name,score])\n",
    "scores = list(set(scores))\n",
    "scores.sort()\n",
    "second_lowest_score = scores[1]\n",
    "names_second_lowest_score = []\n",
    "for record in records :\n",
    "    if record[1] == second_lowest_score :\n",
    "        names_second_lowest_score.append(record[0])\n",
    "names_sorted = list(set(names_second_lowest_score))\n",
    "names_sorted.sort()\n",
    "for name in names_sorted :\n",
    "    print(name)"
   ]
  },
  {
   "cell_type": "markdown",
   "id": "8cbedb34",
   "metadata": {},
   "source": [
    "## 4- Finding the percentage"
   ]
  },
  {
   "cell_type": "code",
   "execution_count": 3,
   "id": "67a5015a",
   "metadata": {},
   "outputs": [
    {
     "name": "stdout",
     "output_type": "stream",
     "text": [
      "2\n",
      "Harsh 25 26.5 28\n",
      "Anurag 26 28 30\n",
      "Harsh\n",
      "26.50\n"
     ]
    }
   ],
   "source": [
    "n = int(input())\n",
    "student_marks = {}\n",
    "for _ in range(n):\n",
    "    name, *line = input().split()\n",
    "    scores = list(map(float, line))\n",
    "    student_marks[name] = scores\n",
    "query_name = input()\n",
    "marks = student_marks[query_name]\n",
    "mean = sum(marks)/len(marks)\n",
    "print(f\"{mean:.2f}\")"
   ]
  },
  {
   "cell_type": "markdown",
   "id": "3508199e",
   "metadata": {},
   "source": [
    "## 5- Lists"
   ]
  },
  {
   "cell_type": "code",
   "execution_count": 5,
   "id": "b72dc46a",
   "metadata": {},
   "outputs": [
    {
     "name": "stdout",
     "output_type": "stream",
     "text": [
      "12\n",
      "insert 0 5\n",
      "insert 1 10\n",
      "insert 0 6\n",
      "print\n",
      "[6, 5, 10]\n",
      "remove 6\n",
      "append 9\n",
      "append 1\n",
      "sort\n",
      "print\n",
      "[1, 5, 9, 10]\n",
      "pop\n",
      "reverse\n",
      "print\n",
      "[9, 5, 1]\n"
     ]
    }
   ],
   "source": [
    "N = int(input())\n",
    "L = []\n",
    "for i in range (N) :\n",
    "    line = input().split()\n",
    "    command = line[0]\n",
    "    if command == 'insert' :\n",
    "        L.insert(int(line[1]), int(line[2]))\n",
    "    elif command == 'print' :\n",
    "        print(L)\n",
    "    elif command == 'remove' :\n",
    "        L.remove(int(line[1]))\n",
    "    elif command == 'append' :\n",
    "        L.append(int(line[1]))\n",
    "    elif command == 'sort' :\n",
    "        L.sort()\n",
    "    elif command == 'pop' :\n",
    "        L.pop(-1)\n",
    "    elif command == 'reverse' :\n",
    "        L.reverse()"
   ]
  },
  {
   "cell_type": "markdown",
   "id": "23292469",
   "metadata": {},
   "source": [
    "## 6- Tuples"
   ]
  },
  {
   "cell_type": "code",
   "execution_count": 6,
   "id": "ec14cafd",
   "metadata": {},
   "outputs": [
    {
     "name": "stdout",
     "output_type": "stream",
     "text": [
      "2\n",
      "1 2\n",
      "-3550055125485641917\n"
     ]
    }
   ],
   "source": [
    "n = int(input())\n",
    "integer_list = map(int, input().split())\n",
    "print(hash(tuple(integer_list)))"
   ]
  },
  {
   "cell_type": "markdown",
   "id": "1a11b2e0",
   "metadata": {},
   "source": [
    "# "
   ]
  },
  {
   "cell_type": "markdown",
   "id": "1c577f0d",
   "metadata": {},
   "source": [
    "# Strings "
   ]
  },
  {
   "cell_type": "markdown",
   "id": "2c72fff6",
   "metadata": {},
   "source": [
    "## 1- sWAP cASE"
   ]
  },
  {
   "cell_type": "code",
   "execution_count": 24,
   "id": "1cd20c61",
   "metadata": {},
   "outputs": [
    {
     "name": "stdout",
     "output_type": "stream",
     "text": [
      "hACKERrANK.COM PRESENTS \"pYTHONIST 2\".\n"
     ]
    }
   ],
   "source": [
    "def swap_case(s):\n",
    "    s = list(s)\n",
    "    for i in range (len(s)) :\n",
    "        if s[i].isupper() :\n",
    "            s[i] = s[i].lower()\n",
    "        elif s[i].islower() :\n",
    "            s[i] = s[i].upper()        \n",
    "    return ''.join(s)\n",
    "\n",
    "s = 'HackerRank.com presents \"Pythonist 2\".'\n",
    "result = swap_case(s)\n",
    "print(result)"
   ]
  },
  {
   "cell_type": "markdown",
   "id": "6a4f3fa6",
   "metadata": {},
   "source": [
    "## 2- String Split and Join"
   ]
  },
  {
   "cell_type": "code",
   "execution_count": 25,
   "id": "47060fe4",
   "metadata": {},
   "outputs": [
    {
     "name": "stdout",
     "output_type": "stream",
     "text": [
      "this-is-a-string\n"
     ]
    }
   ],
   "source": [
    "def split_and_join(line):\n",
    "    line = line.split(\" \")\n",
    "    return \"-\".join(line)\n",
    "\n",
    "line = 'this is a string'\n",
    "result = split_and_join(line)\n",
    "print(result)"
   ]
  },
  {
   "cell_type": "markdown",
   "id": "2c65c879",
   "metadata": {},
   "source": [
    "## 3- What's Your Name?"
   ]
  },
  {
   "cell_type": "code",
   "execution_count": 27,
   "id": "3fe155d4",
   "metadata": {},
   "outputs": [
    {
     "name": "stdout",
     "output_type": "stream",
     "text": [
      "Hello Ross Taylor! You just delved into python.\n"
     ]
    }
   ],
   "source": [
    "def print_full_name(first, last):\n",
    "    print('Hello '+first+' '+last+'! You just delved into python.')\n",
    "    \n",
    "print_full_name('Ross', 'Taylor')"
   ]
  },
  {
   "cell_type": "markdown",
   "id": "6c947747",
   "metadata": {},
   "source": [
    "## 4- Mutations"
   ]
  },
  {
   "cell_type": "code",
   "execution_count": 29,
   "id": "d91dc523",
   "metadata": {},
   "outputs": [
    {
     "name": "stdout",
     "output_type": "stream",
     "text": [
      "abrackdabra\n"
     ]
    }
   ],
   "source": [
    "def mutate_string(string, position, character):\n",
    "    return string[:position]+character+string[position+1:]\n",
    "\n",
    "s = 'abracadabra'\n",
    "i, c = 5, 'k'\n",
    "s_new = mutate_string(s, int(i), c)\n",
    "print(s_new)"
   ]
  },
  {
   "cell_type": "markdown",
   "id": "ec24715f",
   "metadata": {},
   "source": [
    "## 5- Find a string"
   ]
  },
  {
   "cell_type": "code",
   "execution_count": 30,
   "id": "bb31bcca",
   "metadata": {},
   "outputs": [
    {
     "name": "stdout",
     "output_type": "stream",
     "text": [
      "2\n"
     ]
    }
   ],
   "source": [
    "def count_substring(string, sub_string):\n",
    "    count = 0\n",
    "    for i in range (len(string)-len(sub_string)+1) :\n",
    "        if string[i:i+len(sub_string)] == sub_string :\n",
    "            count += 1\n",
    "    return count\n",
    "\n",
    "string = 'ABCDCDC'\n",
    "sub_string = 'CDC'    \n",
    "count = count_substring(string, sub_string)\n",
    "print(count)"
   ]
  },
  {
   "cell_type": "markdown",
   "id": "baa858b7",
   "metadata": {},
   "source": [
    "## 6- String Validators"
   ]
  },
  {
   "cell_type": "code",
   "execution_count": 31,
   "id": "0019be85",
   "metadata": {},
   "outputs": [
    {
     "name": "stdout",
     "output_type": "stream",
     "text": [
      "True\n",
      "True\n",
      "True\n",
      "True\n",
      "True\n"
     ]
    }
   ],
   "source": [
    "s = 'qA2'\n",
    "print(any(a.isalnum() for a in s))\n",
    "print(any(a.isalpha() for a in s))\n",
    "print(any(a.isdigit() for a in s))\n",
    "print(any(a.islower() for a in s))\n",
    "print(any(a.isupper() for a in s))"
   ]
  },
  {
   "cell_type": "markdown",
   "id": "4b569d85",
   "metadata": {},
   "source": [
    "## 7- Text Alignment"
   ]
  },
  {
   "cell_type": "code",
   "execution_count": 1,
   "id": "c5a81a6a",
   "metadata": {},
   "outputs": [
    {
     "name": "stdout",
     "output_type": "stream",
     "text": [
      "    H    \n",
      "   HHH   \n",
      "  HHHHH  \n",
      " HHHHHHH \n",
      "HHHHHHHHH\n",
      "  HHHHH               HHHHH             \n",
      "  HHHHH               HHHHH             \n",
      "  HHHHH               HHHHH             \n",
      "  HHHHH               HHHHH             \n",
      "  HHHHH               HHHHH             \n",
      "  HHHHH               HHHHH             \n",
      "  HHHHHHHHHHHHHHHHHHHHHHHHH   \n",
      "  HHHHHHHHHHHHHHHHHHHHHHHHH   \n",
      "  HHHHHHHHHHHHHHHHHHHHHHHHH   \n",
      "  HHHHH               HHHHH             \n",
      "  HHHHH               HHHHH             \n",
      "  HHHHH               HHHHH             \n",
      "  HHHHH               HHHHH             \n",
      "  HHHHH               HHHHH             \n",
      "  HHHHH               HHHHH             \n",
      "                    HHHHHHHHH \n",
      "                     HHHHHHH  \n",
      "                      HHHHH   \n",
      "                       HHH    \n",
      "                        H     \n"
     ]
    }
   ],
   "source": [
    "thickness = 5 #This must be an odd number\n",
    "c = 'H'\n",
    "\n",
    "#Top Cone\n",
    "for i in range(thickness):\n",
    "    print((c*i).rjust(thickness-1)+c+(c*i).ljust(thickness-1))\n",
    "\n",
    "#Top Pillars\n",
    "for i in range(thickness+1):\n",
    "    print((c*thickness).center(thickness*2)+(c*thickness).center(thickness*6))\n",
    "\n",
    "#Middle Belt\n",
    "for i in range((thickness+1)//2):\n",
    "    print((c*thickness*5).center(thickness*6))    \n",
    "\n",
    "#Bottom Pillars\n",
    "for i in range(thickness+1):\n",
    "    print((c*thickness).center(thickness*2)+(c*thickness).center(thickness*6))    \n",
    "\n",
    "#Bottom Cone\n",
    "for i in range(thickness):\n",
    "    print(((c*(thickness-i-1)).rjust(thickness)+c+(c*(thickness-i-1)).ljust(thickness)).rjust(thickness*6))\n"
   ]
  },
  {
   "cell_type": "markdown",
   "id": "622d1477",
   "metadata": {},
   "source": [
    "## 8- Text Wrap"
   ]
  },
  {
   "cell_type": "code",
   "execution_count": 2,
   "id": "0835ae9f",
   "metadata": {},
   "outputs": [
    {
     "name": "stdout",
     "output_type": "stream",
     "text": [
      "ABCD\n",
      "EFGH\n",
      "IJKL\n",
      "IMNO\n",
      "QRST\n",
      "UVWX\n",
      "YZ\n"
     ]
    }
   ],
   "source": [
    "import textwrap\n",
    "\n",
    "def wrap(string, max_width):\n",
    "    return textwrap.fill(string,max_width)\n",
    "\n",
    "string, max_width = 'ABCDEFGHIJKLIMNOQRSTUVWXYZ', 4\n",
    "result = wrap(string, max_width)\n",
    "print(result)"
   ]
  },
  {
   "cell_type": "markdown",
   "id": "a0f169d2",
   "metadata": {},
   "source": [
    "## 9- Designer Door Mat"
   ]
  },
  {
   "cell_type": "code",
   "execution_count": 3,
   "id": "06ed3327",
   "metadata": {},
   "outputs": [
    {
     "name": "stdout",
     "output_type": "stream",
     "text": [
      "---------.|.---------\n",
      "------.|..|..|.------\n",
      "---.|..|..|..|..|.---\n",
      "-------WELCOME-------\n",
      "---.|..|..|..|..|.---\n",
      "------.|..|..|.------\n",
      "---------.|.---------\n"
     ]
    }
   ],
   "source": [
    "#N, M = list(map(int,input().split()))\n",
    "N, M = 7, 21\n",
    "k = 1\n",
    "for i in range (1,N+1) :\n",
    "    if i <= N//2 :\n",
    "        print((k*'.|.').center(M,'-'))\n",
    "        k += 2\n",
    "    elif i > N//2+1 :\n",
    "        k -= 2\n",
    "        print((k*'.|.').center(M,'-'))\n",
    "    else :\n",
    "        print('WELCOME'.center(M,'-'))"
   ]
  },
  {
   "cell_type": "markdown",
   "id": "881f2edb",
   "metadata": {},
   "source": [
    "## 10- String Formatting"
   ]
  },
  {
   "cell_type": "code",
   "execution_count": 10,
   "id": "409735af",
   "metadata": {},
   "outputs": [
    {
     "name": "stdout",
     "output_type": "stream",
     "text": [
      "    1     1     1     1\n",
      "    2     2     2    10\n",
      "    3     3     3    11\n",
      "    4     4     4   100\n",
      "    5     5     5   101\n",
      "    6     6     6   110\n",
      "    7     7     7   111\n",
      "    8    10     8  1000\n",
      "    9    11     9  1001\n",
      "   10    12     A  1010\n",
      "   11    13     B  1011\n",
      "   12    14     C  1100\n",
      "   13    15     D  1101\n",
      "   14    16     E  1110\n",
      "   15    17     F  1111\n",
      "   16    20    10 10000\n",
      "   17    21    11 10001\n"
     ]
    }
   ],
   "source": [
    "def print_formatted(number):\n",
    "    width = len(bin(number))-2\n",
    "    for i in range (1,number+1) :\n",
    "        print(str(i).rjust(width),end = ' ')\n",
    "        print(str(\"%o\"%i).rjust(width),end=' ')\n",
    "        print(str(\"%X\"%i).rjust(width),end=' ')\n",
    "        print(format(i,\"b\").rjust(width))\n",
    "        \n",
    "n = 17\n",
    "print_formatted(n)"
   ]
  },
  {
   "cell_type": "markdown",
   "id": "842416c4",
   "metadata": {},
   "source": [
    "## 11- Alphabet Rangoli"
   ]
  },
  {
   "cell_type": "code",
   "execution_count": 25,
   "id": "7aa45b7c",
   "metadata": {},
   "outputs": [
    {
     "name": "stdout",
     "output_type": "stream",
     "text": [
      "--------e--------\n",
      "------e-d-e------\n",
      "----e-d-c-d-e----\n",
      "--e-d-c-b-c-d-e--\n",
      "e-d-c-b-a-b-c-d-e\n",
      "--e-d-c-b-c-d-e--\n",
      "----e-d-c-d-e----\n",
      "------e-d-e------\n",
      "--------e--------\n"
     ]
    }
   ],
   "source": [
    "def print_rangoli(size):\n",
    "    alphabet = list(map(chr, range(97, 123)))\n",
    "    width = size*4-3\n",
    "    for i in range(1,size*2) :\n",
    "        if i <= size :\n",
    "            letters = alphabet[size-i:size]\n",
    "            reverse_letters = letters.copy()\n",
    "            reverse_letters.reverse()\n",
    "            print('-'.join(reverse_letters).rjust(width//2+1,'-')+'-'.join(letters)[1:].ljust(width//2,'-'))\n",
    "        else :\n",
    "            i = size*2-i\n",
    "            letters = alphabet[size-i:size]\n",
    "            reverse_letters = letters.copy()\n",
    "            reverse_letters.reverse()\n",
    "            print('-'.join(reverse_letters).rjust(width//2+1,'-')+'-'.join(letters)[1:].ljust(width//2,'-'))\n",
    "        \n",
    "    \n",
    "n = 5\n",
    "print_rangoli(n)"
   ]
  },
  {
   "cell_type": "markdown",
   "id": "6c8e175e",
   "metadata": {},
   "source": [
    "## 12- Capitalize!"
   ]
  },
  {
   "cell_type": "code",
   "execution_count": 34,
   "id": "f7ea3132",
   "metadata": {},
   "outputs": [
    {
     "data": {
      "text/plain": [
       "'Chris Alan'"
      ]
     },
     "execution_count": 34,
     "metadata": {},
     "output_type": "execute_result"
    }
   ],
   "source": [
    "def solve(s):\n",
    "    for name in s.split() :\n",
    "        s = s.replace(name, name.capitalize())\n",
    "    return s\n",
    "\n",
    "solve('chris alan')"
   ]
  },
  {
   "cell_type": "markdown",
   "id": "9b2857e2",
   "metadata": {},
   "source": [
    "## 13- The Minion Game"
   ]
  },
  {
   "cell_type": "code",
   "execution_count": 36,
   "id": "40473030",
   "metadata": {},
   "outputs": [
    {
     "name": "stdout",
     "output_type": "stream",
     "text": [
      "Stuart 12\n"
     ]
    }
   ],
   "source": [
    "def minion_game(string):\n",
    "    stuart_score = 0\n",
    "    kevin_score = 0\n",
    "    for i in range (len(string)) :\n",
    "        c = string[i]\n",
    "        if c != 'A' and c != 'E' and c != 'I' and c != 'O' and c != 'U' :\n",
    "            stuart_score += len(string)-i\n",
    "        elif c.isalpha() :\n",
    "            kevin_score += len(string)-i\n",
    "    if stuart_score > kevin_score :\n",
    "        print(\"Stuart \"+str(stuart_score))\n",
    "    elif kevin_score > stuart_score :\n",
    "        print(\"Kevin \"+str(kevin_score))\n",
    "    else :\n",
    "        print(\"Draw\")\n",
    "        \n",
    "s = 'BANANA'\n",
    "minion_game(s)"
   ]
  },
  {
   "cell_type": "markdown",
   "id": "6ec39c81",
   "metadata": {},
   "source": [
    "## 14- Merge the Tools!"
   ]
  },
  {
   "cell_type": "code",
   "execution_count": 44,
   "id": "438aa4cb",
   "metadata": {},
   "outputs": [
    {
     "name": "stdout",
     "output_type": "stream",
     "text": [
      "A\n",
      "BCA\n",
      "DE\n"
     ]
    }
   ],
   "source": [
    "def merge_the_tools(string, k):\n",
    "    for i in range (1, len(string)+1) :\n",
    "        if i%k == 0 :\n",
    "            s = ''\n",
    "            for c in string[i-k:i] :\n",
    "                if c not in s :\n",
    "                    s += c\n",
    "            print(s)    \n",
    "    \n",
    "    \n",
    "string, k = 'AAABCADDE', 3\n",
    "merge_the_tools(string, k)"
   ]
  },
  {
   "cell_type": "markdown",
   "id": "e5db2fe1",
   "metadata": {},
   "source": [
    "# "
   ]
  },
  {
   "cell_type": "markdown",
   "id": "0f6309b6",
   "metadata": {},
   "source": [
    "# Sets"
   ]
  },
  {
   "cell_type": "markdown",
   "id": "d3efc544",
   "metadata": {},
   "source": [
    "## 1- Introduction to Sets"
   ]
  },
  {
   "cell_type": "code",
   "execution_count": 9,
   "id": "b1b994d0",
   "metadata": {},
   "outputs": [
    {
     "data": {
      "text/plain": [
       "169.375"
      ]
     },
     "execution_count": 9,
     "metadata": {},
     "output_type": "execute_result"
    }
   ],
   "source": [
    "def average(array):\n",
    "    distinct_heights = set(array)\n",
    "    return(round(sum(distinct_heights)/len(distinct_heights),3))\n",
    "\n",
    "average([161,182,161,154,176,170,167,171,170,174])"
   ]
  },
  {
   "cell_type": "markdown",
   "id": "be943699",
   "metadata": {},
   "source": [
    "## 2- No Idea!"
   ]
  },
  {
   "cell_type": "code",
   "execution_count": 10,
   "id": "6919b68a",
   "metadata": {},
   "outputs": [
    {
     "name": "stdout",
     "output_type": "stream",
     "text": [
      "1\n"
     ]
    }
   ],
   "source": [
    "n,m = 3,2\n",
    "array = [1,5,3]\n",
    "A = set([3,1])\n",
    "B = set([5,7])\n",
    "\n",
    "\n",
    "happiness = 0\n",
    "for i in array :\n",
    "    if i in A :\n",
    "        happiness += 1\n",
    "    elif i in B :\n",
    "        happiness -= 1\n",
    "print(happiness)"
   ]
  },
  {
   "cell_type": "markdown",
   "id": "4f74b769",
   "metadata": {},
   "source": [
    "## 3- Symmetric Difference"
   ]
  },
  {
   "cell_type": "code",
   "execution_count": 11,
   "id": "50130ef5",
   "metadata": {},
   "outputs": [
    {
     "name": "stdout",
     "output_type": "stream",
     "text": [
      "5\n",
      "9\n",
      "11\n",
      "12\n"
     ]
    }
   ],
   "source": [
    "M = 4\n",
    "a = set([2,4,5,9])\n",
    "N = 4\n",
    "b = set([2,4,11,12])\n",
    "\n",
    "diff = b.difference(a).union(a.difference(b))\n",
    "\n",
    "for n in sorted(diff) :\n",
    "    print(n)\n",
    "    "
   ]
  },
  {
   "cell_type": "markdown",
   "id": "2c3da711",
   "metadata": {},
   "source": [
    "## 4- Set.add()"
   ]
  },
  {
   "cell_type": "code",
   "execution_count": 1,
   "id": "315ebb30",
   "metadata": {},
   "outputs": [
    {
     "name": "stdout",
     "output_type": "stream",
     "text": [
      "7\n",
      "UK\n",
      "CHINA\n",
      "USA\n",
      "FRANCE\n",
      "NEW ZEALAND\n",
      "UK\n",
      "FRANCE\n",
      "5\n"
     ]
    }
   ],
   "source": [
    "set = set()\n",
    "for i in range (int(input())) :\n",
    "    set.add(input())\n",
    "print(len(set))"
   ]
  },
  {
   "cell_type": "markdown",
   "id": "0629a237",
   "metadata": {},
   "source": [
    "## 5- Set .discard(), .remove() & .pop()"
   ]
  },
  {
   "cell_type": "code",
   "execution_count": 3,
   "id": "e96448af",
   "metadata": {},
   "outputs": [
    {
     "name": "stdout",
     "output_type": "stream",
     "text": [
      "pop\n",
      "remove  9\n",
      "discard 9\n",
      "discard 8\n",
      "remove 7\n",
      "pop\n",
      "discard 6\n",
      "remove 5\n",
      "pop\n",
      "discard 5\n",
      "4\n"
     ]
    }
   ],
   "source": [
    "n = 9\n",
    "s = set([1,2,3,4,5,6,7,8,9])\n",
    "\n",
    "for i in range(10) :\n",
    "    line = input().split()\n",
    "    command = line[0]\n",
    "    if command == 'remove' :\n",
    "        s.remove(int(line[1]))\n",
    "    elif command == 'discard' :\n",
    "        s.discard(int(line[1]))\n",
    "    elif command == 'pop' :\n",
    "        s.pop()\n",
    "print(sum(s))"
   ]
  },
  {
   "cell_type": "markdown",
   "id": "02c93c6c",
   "metadata": {},
   "source": [
    "## 6- Set .union() Operation"
   ]
  },
  {
   "cell_type": "code",
   "execution_count": 4,
   "id": "1a4bb2a6",
   "metadata": {},
   "outputs": [
    {
     "name": "stdout",
     "output_type": "stream",
     "text": [
      "13\n"
     ]
    }
   ],
   "source": [
    "n = 9\n",
    "students_english_newspaper = set([1,2,3,4,5,6,7,8,9])\n",
    "m = 9\n",
    "students_french_newspaper = set([10,1,2,3,11,21,55,6,8])\n",
    "print(len(students_english_newspaper.union(students_french_newspaper)))"
   ]
  },
  {
   "cell_type": "markdown",
   "id": "2163ec7c",
   "metadata": {},
   "source": [
    "## 7- Set .intersection() Operation"
   ]
  },
  {
   "cell_type": "code",
   "execution_count": 5,
   "id": "aa224f6d",
   "metadata": {},
   "outputs": [
    {
     "name": "stdout",
     "output_type": "stream",
     "text": [
      "5\n"
     ]
    }
   ],
   "source": [
    "n = 9\n",
    "students_english_newspaper = set([1,2,3,4,5,6,7,8,9])\n",
    "m = 9\n",
    "students_french_newspaper = set([10,1,2,3,11,21,55,6,8])\n",
    "print(len(students_english_newspaper.intersection(students_french_newspaper)))"
   ]
  },
  {
   "cell_type": "markdown",
   "id": "f1f71dac",
   "metadata": {},
   "source": [
    "## 8- Set .difference() Operation"
   ]
  },
  {
   "cell_type": "code",
   "execution_count": 7,
   "id": "afc19ced",
   "metadata": {},
   "outputs": [
    {
     "name": "stdout",
     "output_type": "stream",
     "text": [
      "4\n"
     ]
    }
   ],
   "source": [
    "n = 9\n",
    "students_english_newspaper = set([1,2,3,4,5,6,7,8,9])\n",
    "m = 9\n",
    "students_french_newspaper = set([10,1,2,3,11,21,55,6,8])\n",
    "print(len(students_english_newspaper.difference(students_french_newspaper)))"
   ]
  },
  {
   "cell_type": "markdown",
   "id": "0386c9c0",
   "metadata": {},
   "source": [
    "## 9- Set .symmetric_difference() Operation"
   ]
  },
  {
   "cell_type": "code",
   "execution_count": 8,
   "id": "37384877",
   "metadata": {},
   "outputs": [
    {
     "name": "stdout",
     "output_type": "stream",
     "text": [
      "8\n"
     ]
    }
   ],
   "source": [
    "n = 9\n",
    "students_english_newspaper = set([1,2,3,4,5,6,7,8,9])\n",
    "m = 9\n",
    "students_french_newspaper = set([10,1,2,3,11,21,55,6,8])\n",
    "print(len(students_english_newspaper.symmetric_difference(students_french_newspaper)))"
   ]
  },
  {
   "cell_type": "markdown",
   "id": "ba30b976",
   "metadata": {},
   "source": [
    "## 10- Set Mutations"
   ]
  },
  {
   "cell_type": "code",
   "execution_count": null,
   "id": "a4df6cc2",
   "metadata": {},
   "outputs": [],
   "source": [
    "n = int(input())\n",
    "A = set(map(int,input().split()))\n",
    "\n",
    "for i in range(int(input())) :\n",
    "    command = input().split()[0]\n",
    "    if command == 'update' :\n",
    "        A.update(set(map(int,input().split())))\n",
    "    elif command == 'intersection_update' :\n",
    "        A.intersection_update(set(map(int,input().split())))\n",
    "    elif command == 'difference_update' :\n",
    "        A.difference_update(set(map(int,input().split())))\n",
    "    elif command == 'symmetric_difference_update' :\n",
    "        A.symmetric_difference_update(set(map(int,input().split())))\n",
    "print(sum(A))"
   ]
  },
  {
   "cell_type": "markdown",
   "id": "00eddafa",
   "metadata": {},
   "source": [
    "## 11- The Captain's Room"
   ]
  },
  {
   "cell_type": "code",
   "execution_count": 9,
   "id": "2a272fd9",
   "metadata": {},
   "outputs": [
    {
     "name": "stdout",
     "output_type": "stream",
     "text": [
      "8\n"
     ]
    }
   ],
   "source": [
    "K = 5\n",
    "L = [1,2,3,6,5,4,4,2,5,3,6,1,6,5,3,2,4,1,2,5,1,4,3,6,8,4,3,1,5,6,2]\n",
    "old_set = set(L)\n",
    "for i in old_set :\n",
    "    L.remove(i)\n",
    "new_set = set(L)\n",
    "print(old_set.difference(new_set).pop())"
   ]
  },
  {
   "cell_type": "markdown",
   "id": "c486f202",
   "metadata": {},
   "source": [
    "## 12- Check Subset"
   ]
  },
  {
   "cell_type": "code",
   "execution_count": null,
   "id": "8cc4f879",
   "metadata": {},
   "outputs": [],
   "source": [
    "T = int(input())\n",
    "for i in range (T) :\n",
    "    n = int(input())\n",
    "    A = set(map(int,input().split()))\n",
    "    m = int(input())\n",
    "    B = set(map(int,input().split()))\n",
    "    if B >= A :\n",
    "        print(True)\n",
    "    else :\n",
    "        print(False)"
   ]
  },
  {
   "cell_type": "markdown",
   "id": "096f7587",
   "metadata": {},
   "source": [
    "## 13- Check Strict Superset"
   ]
  },
  {
   "cell_type": "code",
   "execution_count": null,
   "id": "f46b0d8a",
   "metadata": {},
   "outputs": [],
   "source": [
    "A = set(map(int,input().split()))\n",
    "n = int(input())\n",
    "for i in range (n) :\n",
    "    S = set(map(int,input().split()))\n",
    "    if not(A > S) :\n",
    "        print(False)\n",
    "        exit()\n",
    "print(True)"
   ]
  },
  {
   "cell_type": "markdown",
   "id": "fa91c023",
   "metadata": {},
   "source": [
    "# "
   ]
  },
  {
   "cell_type": "markdown",
   "id": "73764e0d",
   "metadata": {},
   "source": [
    "# Collections"
   ]
  },
  {
   "cell_type": "markdown",
   "id": "55f9eb2b",
   "metadata": {},
   "source": [
    "## 1- collections.Counter()"
   ]
  },
  {
   "cell_type": "code",
   "execution_count": null,
   "id": "9cfe8835",
   "metadata": {},
   "outputs": [],
   "source": [
    "from collections import Counter\n",
    "\n",
    "X = int(input())\n",
    "L = list(map(int,input().split()))\n",
    "shoe_counter = Counter(L)\n",
    "money = 0\n",
    "for i in range (int(input())) :\n",
    "    line = list(map(int,input().split()))\n",
    "    size = line[0]\n",
    "    price = line[1]\n",
    "    if size in shoe_counter.keys() :\n",
    "        money += price\n",
    "        L.remove(size)\n",
    "        shoe_counter = Counter(L)\n",
    "print(money)"
   ]
  },
  {
   "cell_type": "markdown",
   "id": "8fc9467e",
   "metadata": {},
   "source": [
    "## 2- DefaultDict Tutorial"
   ]
  },
  {
   "cell_type": "code",
   "execution_count": null,
   "id": "c525f157",
   "metadata": {},
   "outputs": [],
   "source": [
    "from collections import defaultdict\n",
    "\n",
    "n,m = map(int,input().split())\n",
    "dictA = defaultdict(list)\n",
    "for i in range (n) :\n",
    "    dictA[input()].append(str(i+1))\n",
    "for i in range(m) :\n",
    "    word = input()\n",
    "    if len(dictA[word]) != 0 :\n",
    "        print(' '.join(dictA[word]))\n",
    "    else :\n",
    "        print(-1)"
   ]
  },
  {
   "cell_type": "markdown",
   "id": "131065e2",
   "metadata": {},
   "source": [
    "## 3- Collections.namedtuple()"
   ]
  },
  {
   "cell_type": "code",
   "execution_count": null,
   "id": "96521000",
   "metadata": {},
   "outputs": [],
   "source": [
    "from collections import namedtuple\n",
    "\n",
    "N = int(input())\n",
    "Student = namedtuple('Student',input())\n",
    "Students = []\n",
    "for i in range (N) :\n",
    "    values = input().split()\n",
    "    Students.append(Student(values[0], values[1], values[2], values[3]))\n",
    "sum = 0\n",
    "for Student in Students :\n",
    "    sum += int(Student.MARKS)\n",
    "print(round(sum/N,2))"
   ]
  },
  {
   "cell_type": "markdown",
   "id": "62d170df",
   "metadata": {},
   "source": [
    "## 4- Collections.OrderedDict()"
   ]
  },
  {
   "cell_type": "code",
   "execution_count": null,
   "id": "cbb0fb0a",
   "metadata": {},
   "outputs": [],
   "source": [
    "from collections import OrderedDict\n",
    "\n",
    "N = int(input())\n",
    "ordered_dict = OrderedDict()\n",
    "for i in range(N) :\n",
    "    line = input().split()\n",
    "    item_name = ' '.join(line[:-1])\n",
    "    if item_name in ordered_dict.keys() :\n",
    "        ordered_dict[item_name] += int(line[-1])\n",
    "    else :\n",
    "        ordered_dict[item_name] = int(line[-1])  \n",
    "        \n",
    "for item_name,net_price in ordered_dict.items() :\n",
    "    print(item_name,net_price)"
   ]
  },
  {
   "cell_type": "markdown",
   "id": "33811126",
   "metadata": {},
   "source": [
    "## 5- Word Order"
   ]
  },
  {
   "cell_type": "code",
   "execution_count": null,
   "id": "fea3877b",
   "metadata": {},
   "outputs": [],
   "source": [
    "import collections\n",
    "\n",
    "N = int(input())\n",
    "\n",
    "L = []\n",
    "for i in range (N) :\n",
    "    L.append(input())\n",
    "word_counter = collections.Counter(L)\n",
    "print(len(word_counter))\n",
    "print(' '.join(map(str,word_counter.values())))"
   ]
  },
  {
   "cell_type": "markdown",
   "id": "9c588d32",
   "metadata": {},
   "source": [
    "## 6- Collections.deque()"
   ]
  },
  {
   "cell_type": "code",
   "execution_count": null,
   "id": "b6f43979",
   "metadata": {},
   "outputs": [],
   "source": [
    "from collections import deque\n",
    "\n",
    "N = int(input())\n",
    "d = deque()\n",
    "for i in range(N) :\n",
    "    line = input().split()\n",
    "    command = line[0]\n",
    "    if command == 'append' :\n",
    "        d.append(line[1])\n",
    "    elif command == 'appendleft' :\n",
    "        d.appendleft(line[1])\n",
    "    elif command == 'pop' :\n",
    "        d.pop()\n",
    "    elif command == 'popleft' :\n",
    "        d.popleft()\n",
    "print(' '.join(d))"
   ]
  },
  {
   "cell_type": "markdown",
   "id": "f9c34349",
   "metadata": {},
   "source": [
    "## 7- Company Logo"
   ]
  },
  {
   "cell_type": "code",
   "execution_count": 25,
   "id": "d909fa15",
   "metadata": {},
   "outputs": [
    {
     "name": "stdout",
     "output_type": "stream",
     "text": [
      "b 3\n",
      "a 2\n",
      "c 2\n"
     ]
    }
   ],
   "source": [
    "from collections import Counter\n",
    "characters = 'aabbbccde'\n",
    "counter_characters = Counter(sorted(characters)\n",
    "for key,value in counter_characters.most_common(3) :\n",
    "    print(key,value)"
   ]
  },
  {
   "cell_type": "markdown",
   "id": "2a58bcc6",
   "metadata": {},
   "source": [
    "## 8- Piling Up!"
   ]
  },
  {
   "cell_type": "code",
   "execution_count": null,
   "id": "7f76f491",
   "metadata": {},
   "outputs": [],
   "source": [
    "from collections import deque\n",
    "\n",
    "N = int(input())\n",
    "for i in range (N) :\n",
    "    n = int(input())\n",
    "    d = deque(map(int,input().split()))\n",
    "    answer = 'Yes'\n",
    "    if d[0]>=d[-1] :\n",
    "        max = d[0]\n",
    "    else :\n",
    "        max = d[-1]\n",
    "    N = len(d)\n",
    "    for j in range (N-1) :\n",
    "        if d[0]>d[-1] :\n",
    "            element = d.popleft()\n",
    "        else :\n",
    "            element = d.pop()\n",
    "        if max>=element :\n",
    "            max = element\n",
    "        else :\n",
    "            answer = 'No'\n",
    "            break\n",
    "    print(answer)"
   ]
  },
  {
   "cell_type": "markdown",
   "id": "4074e085",
   "metadata": {},
   "source": [
    "# "
   ]
  },
  {
   "cell_type": "markdown",
   "id": "e0100850",
   "metadata": {},
   "source": [
    "# Date and Time"
   ]
  },
  {
   "cell_type": "markdown",
   "id": "90d540dc",
   "metadata": {},
   "source": [
    "## 1- Calendar Module"
   ]
  },
  {
   "cell_type": "code",
   "execution_count": 2,
   "id": "d02d3ace",
   "metadata": {},
   "outputs": [
    {
     "name": "stdout",
     "output_type": "stream",
     "text": [
      "WEDNESDAY\n"
     ]
    }
   ],
   "source": [
    "import calendar\n",
    "\n",
    "#date = list(map(int,input().split()))\n",
    "date = [8, 5, 2015]\n",
    "\n",
    "day_index = calendar.weekday(date[2], date[0], date[1])\n",
    "\n",
    "days_dict = {'0':'MONDAY', '1':'TUESDAY', '2':'WEDNESDAY', '3':'THURSDAY', '4':'FRIDAY', '5':'SATURDAY', '6':'SUNDAY'}\n",
    "\n",
    "print(days_dict[str(day_index)])"
   ]
  },
  {
   "cell_type": "markdown",
   "id": "c508e9d7",
   "metadata": {},
   "source": [
    "## 2- Time Delta"
   ]
  },
  {
   "cell_type": "code",
   "execution_count": 30,
   "id": "0b56438f",
   "metadata": {},
   "outputs": [
    {
     "data": {
      "text/plain": [
       "'88200'"
      ]
     },
     "execution_count": 30,
     "metadata": {},
     "output_type": "execute_result"
    }
   ],
   "source": [
    "from datetime import datetime, timedelta\n",
    "\n",
    "def time_delta(t1, t2):\n",
    "    format = \"%a %d %b %Y %H:%M:%S %z\"\n",
    "    time1 = datetime.strptime(t1, format)\n",
    "    time2 = datetime.strptime(t2, format)\n",
    "    time_delta = abs(time1-time2)\n",
    "    return(str(int(time_delta.total_seconds())))\n",
    "\n",
    "time_delta(\"Sat 02 May 2015 19:54:36 +0530\",\"Fri 01 May 2015 13:54:36 -0000\")"
   ]
  },
  {
   "cell_type": "markdown",
   "id": "c798e9ff",
   "metadata": {},
   "source": [
    "# "
   ]
  },
  {
   "cell_type": "markdown",
   "id": "a148f6ea",
   "metadata": {},
   "source": [
    "# Exceptions"
   ]
  },
  {
   "cell_type": "code",
   "execution_count": 2,
   "id": "393b892c",
   "metadata": {},
   "outputs": [
    {
     "name": "stdout",
     "output_type": "stream",
     "text": [
      "3\n",
      "1 0\n",
      "Error Code: integer division or modulo by zero\n",
      "2 $\n",
      "Error Code: invalid literal for int() with base 10: '$'\n",
      "3 1\n",
      "3\n"
     ]
    }
   ],
   "source": [
    "N = int(input())\n",
    "\n",
    "for i in range (N) :\n",
    "        try :\n",
    "            a,b = map(int,input().split())\n",
    "            print(int(a)//int(b))\n",
    "        except ZeroDivisionError as e :\n",
    "            print(\"Error Code:\",e)\n",
    "        except ValueError as e :\n",
    "            print(\"Error Code:\",e)"
   ]
  },
  {
   "cell_type": "markdown",
   "id": "74cff5af",
   "metadata": {},
   "source": [
    "# "
   ]
  },
  {
   "cell_type": "markdown",
   "id": "bf62b86c",
   "metadata": {},
   "source": [
    "# Built-ins"
   ]
  },
  {
   "cell_type": "markdown",
   "id": "7b1561c7",
   "metadata": {},
   "source": [
    "## 1- Zipped"
   ]
  },
  {
   "cell_type": "code",
   "execution_count": 3,
   "id": "c7168d33",
   "metadata": {},
   "outputs": [
    {
     "name": "stdout",
     "output_type": "stream",
     "text": [
      "5 3\n",
      "89 90 78 93 80\n",
      "90 91 85 88 86  \n",
      "91 92 83 89 90.5\n",
      "90.0\n",
      "91.0\n",
      "82.0\n",
      "90.0\n",
      "85.5\n"
     ]
    }
   ],
   "source": [
    "N,X = map(int,input().split())\n",
    "MARKS = []\n",
    "for i in range (X) :\n",
    "    MARKS += [list(map(float,input().split()))]\n",
    "for mark_student in zip(*MARKS) :\n",
    "    print(sum(mark_student)/X)"
   ]
  },
  {
   "cell_type": "markdown",
   "id": "671bd1fe",
   "metadata": {},
   "source": [
    "## 2- Athlete Sort"
   ]
  },
  {
   "cell_type": "code",
   "execution_count": 5,
   "id": "4f22835f",
   "metadata": {},
   "outputs": [
    {
     "name": "stdout",
     "output_type": "stream",
     "text": [
      "5 3\n",
      "10 2 5\n",
      "7 1 0\n",
      "9 9 9\n",
      "1 23 12\n",
      "6 5 9\n",
      "1\n",
      "7 1 0\n",
      "10 2 5\n",
      "6 5 9\n",
      "9 9 9\n",
      "1 23 12\n"
     ]
    }
   ],
   "source": [
    "nm = input().split()\n",
    "\n",
    "n = int(nm[0])\n",
    "\n",
    "m = int(nm[1])\n",
    "\n",
    "arr = []\n",
    "\n",
    "for _ in range(n):\n",
    "    arr.append(list(map(int, input().rstrip().split())))\n",
    "\n",
    "k = int(input())\n",
    "\n",
    "athletes = sorted(arr, key=lambda attribute:attribute[k])\n",
    "for athlete in athletes :\n",
    "    print(' '.join(map(str,athlete)))"
   ]
  },
  {
   "cell_type": "markdown",
   "id": "19f88493",
   "metadata": {},
   "source": [
    "## 3- ginortS"
   ]
  },
  {
   "cell_type": "code",
   "execution_count": 6,
   "id": "2fe20c4d",
   "metadata": {},
   "outputs": [
    {
     "name": "stdout",
     "output_type": "stream",
     "text": [
      "Sorting1234\n",
      "ginortS1324\n"
     ]
    }
   ],
   "source": [
    "input = input()\n",
    "lowercase_characters = sorted([k for k in list(input) if k.islower()])\n",
    "uppercase_characters = sorted([k for k in list(input) if k.isupper()])\n",
    "odd_digits = sorted([k for k in list(input) if k.isdigit() and int(k)%2==1])\n",
    "even_digits = sorted([k for k in list(input) if k.isdigit() and int(k)%2==0])\n",
    "print(''.join(lowercase_characters+uppercase_characters+odd_digits+even_digits))"
   ]
  },
  {
   "cell_type": "markdown",
   "id": "fc46f8ae",
   "metadata": {},
   "source": [
    "# "
   ]
  },
  {
   "cell_type": "markdown",
   "id": "cac2a0ec",
   "metadata": {},
   "source": [
    "# Python Functionals"
   ]
  },
  {
   "cell_type": "code",
   "execution_count": 32,
   "id": "4123adb4",
   "metadata": {},
   "outputs": [
    {
     "name": "stdout",
     "output_type": "stream",
     "text": [
      "[0, 1, 1, 8, 27]\n"
     ]
    }
   ],
   "source": [
    "cube = lambda x: x**3\n",
    "\n",
    "def fibonacci(n):\n",
    "    if n == 0 :\n",
    "        return []\n",
    "    elif n == 1 :\n",
    "        return [0]\n",
    "    L = [0,1]\n",
    "    for i in range(2,n+1) :\n",
    "        L.append(L[i-2]+L[i-1])\n",
    "    return L[:n]\n",
    "\n",
    "print(list(map(cube, fibonacci(5))))"
   ]
  },
  {
   "cell_type": "markdown",
   "id": "abf5f5a5",
   "metadata": {},
   "source": [
    "# "
   ]
  },
  {
   "cell_type": "markdown",
   "id": "73934e15",
   "metadata": {},
   "source": [
    "# Regex and Parsing challenges "
   ]
  },
  {
   "cell_type": "markdown",
   "id": "976f83ee",
   "metadata": {},
   "source": [
    "## 1- Detect Float Point Number"
   ]
  },
  {
   "cell_type": "code",
   "execution_count": 3,
   "id": "a7242a7f",
   "metadata": {},
   "outputs": [
    {
     "name": "stdout",
     "output_type": "stream",
     "text": [
      "4\n",
      "4.0O0\n",
      "False\n",
      "-1.00\n",
      "True\n",
      "+4.54\n",
      "True\n",
      "SomeRandomStuff\n",
      "False\n"
     ]
    }
   ],
   "source": [
    "import re\n",
    "\n",
    "pattern = \"^[-+]?[0-9]*\\.[0-9]+$\"\n",
    "for i in range (int(input())) :\n",
    "    string = input()\n",
    "    print(bool(re.match(pattern, string)))\n"
   ]
  },
  {
   "cell_type": "markdown",
   "id": "b042425e",
   "metadata": {},
   "source": [
    "## 2- Re.split()"
   ]
  },
  {
   "cell_type": "code",
   "execution_count": 4,
   "id": "4319eebd",
   "metadata": {},
   "outputs": [
    {
     "name": "stdout",
     "output_type": "stream",
     "text": [
      "100,000,000.000\n",
      "100\n",
      "000\n",
      "000\n",
      "000\n"
     ]
    }
   ],
   "source": [
    "regex_pattern = r\"[,.]+\"\n",
    "\n",
    "import re\n",
    "print(\"\\n\".join(re.split(regex_pattern, input())))"
   ]
  },
  {
   "cell_type": "markdown",
   "id": "b8d753fe",
   "metadata": {},
   "source": [
    "## 3- Group(), Groups() & Groupdict()"
   ]
  },
  {
   "cell_type": "code",
   "execution_count": 4,
   "id": "460baa19",
   "metadata": {},
   "outputs": [
    {
     "name": "stdout",
     "output_type": "stream",
     "text": [
      "..12345678910111213141516171820212223\n",
      "1\n"
     ]
    }
   ],
   "source": [
    "import re\n",
    "\n",
    "m = re.search(r'([a-zA-Z0-9])\\1+',input())\n",
    "if m is not None :\n",
    "    print(m.group(1))\n",
    "else :\n",
    "    print(-1)"
   ]
  },
  {
   "cell_type": "markdown",
   "id": "d238e808",
   "metadata": {},
   "source": [
    "## 4- Re.findall() & Re.finditer()"
   ]
  },
  {
   "cell_type": "code",
   "execution_count": 16,
   "id": "c5f072c3",
   "metadata": {},
   "outputs": [
    {
     "name": "stdout",
     "output_type": "stream",
     "text": [
      "rabcdeefgyYhFjkIoomnpOeorteeeeet\n",
      "ee\n",
      "Ioo\n",
      "Oeo\n",
      "eeeee\n"
     ]
    }
   ],
   "source": [
    "import re\n",
    "\n",
    "strings = re.findall(r'(?<=[QWRTYPSDFGHJKLZXCVBNMqwrtypsdfghjklzxcvbnm])[AEIOUaeiou]{2,}(?=[QWRTYPSDFGHJKLZXCVBNMqwrtypsdfghjklzxcvbnm])', input())\n",
    "\n",
    "if len(strings) != 0 :\n",
    "    print('\\n'.join(strings))\n",
    "else :\n",
    "    print(-1)"
   ]
  },
  {
   "cell_type": "markdown",
   "id": "756e26c1",
   "metadata": {},
   "source": [
    "## 5- Re.start() & Re.end()"
   ]
  },
  {
   "cell_type": "code",
   "execution_count": 17,
   "id": "28c513b2",
   "metadata": {},
   "outputs": [
    {
     "name": "stdout",
     "output_type": "stream",
     "text": [
      "aaadaa\n",
      "aa\n",
      "(0, 1)\n",
      "(1, 2)\n",
      "(4, 5)\n"
     ]
    }
   ],
   "source": [
    "import re\n",
    "\n",
    "S = input()\n",
    "k = re.compile(input())\n",
    "m = k.search(S)\n",
    "\n",
    "if m is None :\n",
    "    print((-1,-1))\n",
    "while m :\n",
    "    print((m.start(), m.end()-1))\n",
    "    m = k.search(S,m.start()+1)"
   ]
  },
  {
   "cell_type": "markdown",
   "id": "83da8c4c",
   "metadata": {},
   "source": [
    "## 6- Regex Substitution"
   ]
  },
  {
   "cell_type": "code",
   "execution_count": 18,
   "id": "cc6c85ea",
   "metadata": {},
   "outputs": [
    {
     "name": "stdout",
     "output_type": "stream",
     "text": [
      "1\n",
      "&& &&&& && && || |||| || ||\n",
      "&& &&&& and and or |||| or ||\n"
     ]
    }
   ],
   "source": [
    "import re\n",
    "\n",
    "N = int(input())\n",
    "\n",
    "for i in range (N) :\n",
    "    line = input()\n",
    "    # we need to call the substitution function for each case two times to correctly substitute two consecutives ' && ' or ' || '\n",
    "    line = re.sub(r'\\ \\&\\&\\ ', \" and \", line)\n",
    "    line = re.sub(r'\\ \\&\\&\\ ', \" and \", line)\n",
    "    line = re.sub(r'\\ \\|\\|\\ ', \" or \", line)\n",
    "    line = re.sub(r'\\ \\|\\|\\ ', \" or \", line)\n",
    "    print(line)"
   ]
  },
  {
   "cell_type": "markdown",
   "id": "3a7b933a",
   "metadata": {},
   "source": [
    "## 7- Validating Roman Numerals"
   ]
  },
  {
   "cell_type": "code",
   "execution_count": 19,
   "id": "fdcbdfc6",
   "metadata": {},
   "outputs": [
    {
     "name": "stdout",
     "output_type": "stream",
     "text": [
      "CDXXI\n",
      "True\n"
     ]
    }
   ],
   "source": [
    "regex_pattern = r\"^M{0,3}(CM|CD|D?C{0,3})(XC|XL|L?X{0,3})(IX|IV|V?I{0,3})$\"\t# Do not delete 'r'.\n",
    "\n",
    "import re\n",
    "print(str(bool(re.match(regex_pattern, input()))))"
   ]
  },
  {
   "cell_type": "markdown",
   "id": "9a1fd6e1",
   "metadata": {},
   "source": [
    "## 8- Validating phone numbers"
   ]
  },
  {
   "cell_type": "code",
   "execution_count": 21,
   "id": "b20351a9",
   "metadata": {},
   "outputs": [
    {
     "name": "stdout",
     "output_type": "stream",
     "text": [
      "2\n",
      "9587456281\n",
      "YES\n",
      "1252478965\n",
      "NO\n"
     ]
    }
   ],
   "source": [
    "import re\n",
    "\n",
    "regex = r'^(7|8|9){1}[0-9]{9}$'\n",
    "for i in range (int(input())) :\n",
    "    if re.search(regex,input()) is not None :\n",
    "        print('YES')\n",
    "    else :\n",
    "        print('NO')"
   ]
  },
  {
   "cell_type": "markdown",
   "id": "3b607c5c",
   "metadata": {},
   "source": [
    "## 9- Validating and Parsing Email Addresses"
   ]
  },
  {
   "cell_type": "code",
   "execution_count": 22,
   "id": "20a25fdc",
   "metadata": {},
   "outputs": [
    {
     "name": "stdout",
     "output_type": "stream",
     "text": [
      "2\n",
      "DEXTER <dexter@hotmail.com>\n",
      "DEXTER <dexter@hotmail.com>\n",
      "VIRUS <virus!@variable.:p>\n"
     ]
    }
   ],
   "source": [
    "import email.utils\n",
    "import re\n",
    "\n",
    "regex = r'^[a-zA-Z][a-zA-Z0-9-._]+@[a-zA-Z]+\\.([a-zA-Z]){1,3}$'\n",
    "for i in range (int(input())) :\n",
    "    line = input()\n",
    "    email_parsing = email.utils.parseaddr(line)\n",
    "    if email_parsing[0] != '' and email_parsing[1] != '' and bool(re.match(regex, email_parsing[1])) :\n",
    "            print(line)    "
   ]
  },
  {
   "cell_type": "markdown",
   "id": "9054fecc",
   "metadata": {},
   "source": [
    "## 10- Hex Color Code"
   ]
  },
  {
   "cell_type": "code",
   "execution_count": null,
   "id": "7fed3189",
   "metadata": {},
   "outputs": [],
   "source": [
    "import re\n",
    "\n",
    "N = int(input())\n",
    "check = False\n",
    "regex = r'#[0-9A-Fa-f]{3,6}'\n",
    "for i in range (N) :\n",
    "    line = input()\n",
    "    if '{' in line :\n",
    "        check = True\n",
    "    elif '}' in line :\n",
    "        check = False\n",
    "    else :\n",
    "        if check :\n",
    "            hex_colors_codes = re.findall(regex,line)\n",
    "            [print(hex_color_code) for hex_color_code in hex_colors_codes if len(hex_color_code) == 4 or len(hex_color_code) == 7]"
   ]
  },
  {
   "cell_type": "markdown",
   "id": "c8552a55",
   "metadata": {},
   "source": [
    "## 11- HTML Parser - Part 1"
   ]
  },
  {
   "cell_type": "code",
   "execution_count": null,
   "id": "de9b6a6f",
   "metadata": {},
   "outputs": [],
   "source": [
    "from html.parser import HTMLParser\n",
    "\n",
    "# create a subclass and override the handler methods\n",
    "class MyHTMLParser(HTMLParser):\n",
    "    def handle_starttag(self, tag, attrs):\n",
    "        print(\"Start :\",tag)\n",
    "        for attr in attrs :\n",
    "            print('->',attr[0],'>',attr[1])\n",
    "    def handle_endtag(self, tag):\n",
    "        print(\"End   :\",tag)\n",
    "    def handle_startendtag(self, tag, attrs):\n",
    "        print(\"Empty : \"+tag)\n",
    "        for attr in attrs :\n",
    "            print('->',attr[0]+' >',attr[1])\n",
    "            \n",
    "parser = MyHTMLParser()\n",
    "for i in range (int(input())) :\n",
    "    parser.feed(input())    "
   ]
  },
  {
   "cell_type": "markdown",
   "id": "f607200b",
   "metadata": {},
   "source": [
    "## 12- HTML Parser - Part 2"
   ]
  },
  {
   "cell_type": "code",
   "execution_count": null,
   "id": "e7b0bbb0",
   "metadata": {},
   "outputs": [],
   "source": [
    "from html.parser import HTMLParser\n",
    "\n",
    "class MyHTMLParser(HTMLParser):\n",
    "    def handle_comment(self, data):\n",
    "        if '\\n' in data :\n",
    "            print(\">>> Multi-line Comment\\n\"+data)\n",
    "        else :\n",
    "            print(\">>> Single-line Comment\\n\"+data)\n",
    "    def handle_data(self, data):\n",
    "        if '\\n' not in data :\n",
    "            print(\">>> Data\\n\"+data)\n",
    " \n",
    "  \n",
    "html = \"\"       \n",
    "for i in range(int(input())):\n",
    "    html += input().rstrip()\n",
    "    html += '\\n'\n",
    "    \n",
    "parser = MyHTMLParser()\n",
    "parser.feed(html)\n",
    "parser.close()"
   ]
  },
  {
   "cell_type": "markdown",
   "id": "363b998c",
   "metadata": {},
   "source": [
    "## 13- Detect HTML Tags, Attributes and Attribute Values"
   ]
  },
  {
   "cell_type": "code",
   "execution_count": null,
   "id": "6c9a35ce",
   "metadata": {},
   "outputs": [],
   "source": [
    "from html.parser import HTMLParser\n",
    "\n",
    "class MyHTMLParser(HTMLParser):\n",
    "    def handle_starttag(self, tag, attrs):\n",
    "        print(tag)\n",
    "        for attr in attrs :\n",
    "            print('->',attr[0],'>',attr[1])\n",
    "\n",
    "            \n",
    "parser = MyHTMLParser()\n",
    "for i in range (int(input())) :\n",
    "    parser.feed(input()) "
   ]
  },
  {
   "cell_type": "markdown",
   "id": "60276e07",
   "metadata": {},
   "source": [
    "## 14- Validating UID"
   ]
  },
  {
   "cell_type": "code",
   "execution_count": 6,
   "id": "31f701c4",
   "metadata": {},
   "outputs": [
    {
     "name": "stdout",
     "output_type": "stream",
     "text": [
      "2\n",
      "B1CD102354\n",
      "Invalid\n",
      "B1CDEF2354\n",
      "Valid\n"
     ]
    }
   ],
   "source": [
    "import re\n",
    "\n",
    "for i in range (int(input())) :\n",
    "    uid = input()\n",
    "    if uid.isalnum() and len(uid) == 10 and bool(re.search(r'(.*[A-Z]){2,}',uid)) and bool(re.search(r'(.*[0-9]){3,}',uid)) and len(set(uid)) == len(uid) :\n",
    "        print('Valid')\n",
    "    else :\n",
    "        print('Invalid')"
   ]
  },
  {
   "cell_type": "markdown",
   "id": "c6de2c92",
   "metadata": {},
   "source": [
    "## 15- Validating Credit Card Numbers"
   ]
  },
  {
   "cell_type": "code",
   "execution_count": null,
   "id": "28941c2d",
   "metadata": {},
   "outputs": [],
   "source": [
    "import re\n",
    "\n",
    "for i in range (int(input())) :\n",
    "    card_number = input()\n",
    "    if bool(re.search(r'\\d{4}-\\d{4}-\\d{4}-\\d{4}',card_number)) :\n",
    "        card_number = ''.join(card_number.split('-'))\n",
    "    if bool(re.search(r'^[456]',card_number)) and len(card_number)==16 and bool(re.search(r'[0-9]{16}',card_number)) and not(bool(re.search(r'(\\d)\\1{3,}',card_number))) :\n",
    "        print('Valid')\n",
    "    else :\n",
    "        print('Invalid')"
   ]
  },
  {
   "cell_type": "markdown",
   "id": "1bab2b20",
   "metadata": {},
   "source": [
    "## 16- Validating Postal Codes"
   ]
  },
  {
   "cell_type": "code",
   "execution_count": 7,
   "id": "5e378e64",
   "metadata": {},
   "outputs": [
    {
     "name": "stdout",
     "output_type": "stream",
     "text": [
      "110000\n",
      "False\n"
     ]
    }
   ],
   "source": [
    "regex_integer_in_range = r\"^[1-9][0-9]{5}$\"\t# Do not delete 'r'.\n",
    "regex_alternating_repetitive_digit_pair = r\"(\\d)(?=\\d\\1)\"\t# Do not delete 'r'.\n",
    "\n",
    "import re\n",
    "P = input()\n",
    "\n",
    "print (bool(re.match(regex_integer_in_range, P)) \n",
    "and len(re.findall(regex_alternating_repetitive_digit_pair, P)) < 2)"
   ]
  },
  {
   "cell_type": "markdown",
   "id": "f6feace4",
   "metadata": {},
   "source": [
    "## 17- Matrix Script"
   ]
  },
  {
   "cell_type": "code",
   "execution_count": 9,
   "id": "1ee3e119",
   "metadata": {},
   "outputs": [
    {
     "name": "stdout",
     "output_type": "stream",
     "text": [
      "7 3\n",
      "Tsi\n",
      "h%x\n",
      "i #\n",
      "sM \n",
      "$a \n",
      "#t%\n",
      "ir!\n",
      "This is Matrix#  %!\n"
     ]
    }
   ],
   "source": [
    "import re\n",
    "\n",
    "first_multiple_input = input().rstrip().split()\n",
    "\n",
    "n = int(first_multiple_input[0])\n",
    "\n",
    "m = int(first_multiple_input[1])\n",
    "\n",
    "matrix = []\n",
    "\n",
    "for _ in range(n):\n",
    "    matrix_item = input()\n",
    "    matrix.append(matrix_item)\n",
    "matrix_script = ''\n",
    "for i in range(m) :\n",
    "    matrix_script += ''.join([str[i] for str in matrix])\n",
    "print(re.sub(r'(?<=[a-zA-Z0-9])[\\ !@#$%&]+(?=[a-zA-Z0-9])', ' ', matrix_script))"
   ]
  },
  {
   "cell_type": "markdown",
   "id": "b0c9cbcc",
   "metadata": {},
   "source": [
    "# "
   ]
  },
  {
   "cell_type": "markdown",
   "id": "221b4c80",
   "metadata": {},
   "source": [
    "# XML"
   ]
  },
  {
   "cell_type": "markdown",
   "id": "9e32fdd3",
   "metadata": {},
   "source": [
    "## 1 - Find the Score"
   ]
  },
  {
   "cell_type": "code",
   "execution_count": null,
   "id": "022f496c",
   "metadata": {},
   "outputs": [],
   "source": [
    "import sys\n",
    "import xml.etree.ElementTree as etree\n",
    "\n",
    "def get_attr_number(node):\n",
    "    score = 0\n",
    "    for child in node.iter() :\n",
    "        score += len(child.attrib)\n",
    "    return score\n",
    "\n",
    "if __name__ == '__main__':\n",
    "    sys.stdin.readline()\n",
    "    xml = sys.stdin.read()\n",
    "    tree = etree.ElementTree(etree.fromstring(xml))\n",
    "    root = tree.getroot()\n",
    "    print(get_attr_number(root))"
   ]
  },
  {
   "cell_type": "markdown",
   "id": "2f38802b",
   "metadata": {},
   "source": [
    "## 2 - Find the Maximum Depth"
   ]
  },
  {
   "cell_type": "code",
   "execution_count": null,
   "id": "4ddb6e8e",
   "metadata": {},
   "outputs": [],
   "source": [
    "import xml.etree.ElementTree as etree\n",
    "\n",
    "maxdepth = 0\n",
    "def depth(elem, level):\n",
    "    global maxdepth\n",
    "    \n",
    "    if maxdepth == level  :\n",
    "        maxdepth += 1\n",
    "    \n",
    "    for child_node in elem :\n",
    "            depth(child_node,level+1)\n",
    "    \n",
    "if __name__ == '__main__':\n",
    "    n = int(input())\n",
    "    xml = \"\"\n",
    "    for i in range(n):\n",
    "        xml =  xml + input() + \"\\n\"\n",
    "    tree = etree.ElementTree(etree.fromstring(xml))\n",
    "    depth(tree.getroot(), -1)\n",
    "    print(maxdepth)"
   ]
  },
  {
   "cell_type": "markdown",
   "id": "9fa7366c",
   "metadata": {},
   "source": [
    "# "
   ]
  },
  {
   "cell_type": "markdown",
   "id": "4dc4d5a1",
   "metadata": {},
   "source": [
    "# Closures and Decorations"
   ]
  },
  {
   "cell_type": "markdown",
   "id": "38729d00",
   "metadata": {},
   "source": [
    "## 1- Standardize Mobile Number Using Decorators"
   ]
  },
  {
   "cell_type": "code",
   "execution_count": null,
   "id": "58572b4a",
   "metadata": {},
   "outputs": [],
   "source": [
    "def wrapper(f):\n",
    "    def fun(l):\n",
    "        f([\"+91 \"+c[-10:-5]+\" \"+c[-5:] for c in l])\n",
    "    return fun\n",
    "\n",
    "@wrapper\n",
    "def sort_phone(l):\n",
    "    print(*sorted(l), sep='\\n')\n",
    "\n",
    "if __name__ == '__main__':\n",
    "    l = [input() for _ in range(int(input()))]\n",
    "    sort_phone(l) "
   ]
  },
  {
   "cell_type": "markdown",
   "id": "261506be",
   "metadata": {},
   "source": [
    "## 2- Name Directory"
   ]
  },
  {
   "cell_type": "code",
   "execution_count": 1,
   "id": "c0a5ce06",
   "metadata": {},
   "outputs": [
    {
     "name": "stdout",
     "output_type": "stream",
     "text": [
      "3\n",
      "Mike Thomson 20 M\n",
      "Robert Bustle 32 M\n",
      "Andria Bustle 30 F\n",
      "Mr. Mike Thomson\n",
      "Ms. Andria Bustle\n",
      "Mr. Robert Bustle\n"
     ]
    }
   ],
   "source": [
    "import operator\n",
    "\n",
    "def person_lister(f):\n",
    "    def inner(people):\n",
    "        people = sorted(people, key=lambda x:int(x[2]))\n",
    "        return [f(person) for person in people]\n",
    "    return inner\n",
    "\n",
    "@person_lister\n",
    "def name_format(person):\n",
    "    return (\"Mr. \" if person[3] == \"M\" else \"Ms. \") + person[0] + \" \" + person[1]\n",
    "\n",
    "people = [input().split() for i in range(int(input()))]\n",
    "print(*name_format(people), sep='\\n')"
   ]
  },
  {
   "cell_type": "markdown",
   "id": "19ed9a38",
   "metadata": {},
   "source": [
    "# "
   ]
  },
  {
   "cell_type": "markdown",
   "id": "259a4839",
   "metadata": {},
   "source": [
    "# Numpy"
   ]
  },
  {
   "cell_type": "markdown",
   "id": "27a30ebb",
   "metadata": {},
   "source": [
    "## 1- Arrays"
   ]
  },
  {
   "cell_type": "code",
   "execution_count": 1,
   "id": "d1a7854d",
   "metadata": {},
   "outputs": [
    {
     "name": "stdout",
     "output_type": "stream",
     "text": [
      "1 2 3 4 -8 -10\n",
      "[-10.  -8.   4.   3.   2.   1.]\n"
     ]
    }
   ],
   "source": [
    "import numpy\n",
    "\n",
    "def arrays(arr):\n",
    "    # complete this function\n",
    "    # use numpy.array\n",
    "    array = numpy.array(arr, float)\n",
    "    return numpy.flip(array)\n",
    "    \n",
    "\n",
    "arr = input().strip().split(' ')\n",
    "result = arrays(arr)\n",
    "print(result)"
   ]
  },
  {
   "cell_type": "markdown",
   "id": "2c9c35c0",
   "metadata": {},
   "source": [
    "## 2- Shape and Reshape"
   ]
  },
  {
   "cell_type": "code",
   "execution_count": 2,
   "id": "3ba58be9",
   "metadata": {},
   "outputs": [
    {
     "name": "stdout",
     "output_type": "stream",
     "text": [
      "1 2 3 4 5 6 7 8 9\n",
      "[[1 2 3]\n",
      " [4 5 6]\n",
      " [7 8 9]]\n"
     ]
    }
   ],
   "source": [
    "import numpy\n",
    "\n",
    "inputs = input().split()\n",
    "array = numpy.array(inputs, int)\n",
    "array.shape = (3,3)\n",
    "print(array)"
   ]
  },
  {
   "cell_type": "markdown",
   "id": "7df4b132",
   "metadata": {},
   "source": [
    "## 3- Transpose and Flatten"
   ]
  },
  {
   "cell_type": "code",
   "execution_count": 1,
   "id": "00e531e0",
   "metadata": {},
   "outputs": [
    {
     "name": "stdout",
     "output_type": "stream",
     "text": [
      "2 2\n",
      "1 2\n",
      "3 4\n",
      "[[1 3]\n",
      " [2 4]]\n",
      "[1 2 3 4]\n"
     ]
    }
   ],
   "source": [
    "import numpy\n",
    "\n",
    "n_lines, m_columns = input().split()\n",
    "L = []\n",
    "for i in range (int(n_lines)) :\n",
    "    L += input().split()\n",
    "array = numpy.array(list(map(int,L)), int)\n",
    "array.shape = (int(n_lines), int(m_columns))\n",
    "\n",
    "print(numpy.transpose(array))\n",
    "print(array.flatten())"
   ]
  },
  {
   "cell_type": "markdown",
   "id": "5b18b720",
   "metadata": {},
   "source": [
    "## 4- Concatenate"
   ]
  },
  {
   "cell_type": "code",
   "execution_count": 2,
   "id": "b5435063",
   "metadata": {},
   "outputs": [
    {
     "name": "stdout",
     "output_type": "stream",
     "text": [
      "4 3 2\n",
      "1 2\n",
      "1 2\n",
      "1 2\n",
      "1 2\n",
      "3 4\n",
      "3 4\n",
      "3 4\n",
      "[[1 2]\n",
      " [1 2]\n",
      " [1 2]\n",
      " [1 2]\n",
      " [3 4]\n",
      " [3 4]\n",
      " [3 4]]\n"
     ]
    }
   ],
   "source": [
    "import numpy\n",
    "\n",
    "N, M, P = input().split()\n",
    "array_1 = []\n",
    "for i in range (int(N)) :\n",
    "    array_1.append(list(map(int,input().split())))\n",
    "array_2 = []\n",
    "for i in range (int(M)) :\n",
    "    array_2.append(list(map(int,input().split())))\n",
    "    \n",
    "array_3 = numpy.concatenate((array_1, array_2))\n",
    "array_3.shape = (int(N)+int(M), int(P))\n",
    "print(array_3)"
   ]
  },
  {
   "cell_type": "markdown",
   "id": "43147b9c",
   "metadata": {},
   "source": [
    "## 5- Zeros and Ones"
   ]
  },
  {
   "cell_type": "code",
   "execution_count": 3,
   "id": "8e493859",
   "metadata": {},
   "outputs": [
    {
     "name": "stdout",
     "output_type": "stream",
     "text": [
      "3 3 3\n",
      "[[[0 0 0]\n",
      "  [0 0 0]\n",
      "  [0 0 0]]\n",
      "\n",
      " [[0 0 0]\n",
      "  [0 0 0]\n",
      "  [0 0 0]]\n",
      "\n",
      " [[0 0 0]\n",
      "  [0 0 0]\n",
      "  [0 0 0]]]\n",
      "[[[1 1 1]\n",
      "  [1 1 1]\n",
      "  [1 1 1]]\n",
      "\n",
      " [[1 1 1]\n",
      "  [1 1 1]\n",
      "  [1 1 1]]\n",
      "\n",
      " [[1 1 1]\n",
      "  [1 1 1]\n",
      "  [1 1 1]]]\n"
     ]
    }
   ],
   "source": [
    "import numpy\n",
    "\n",
    "shape_integers = tuple(map(int,input().split()))\n",
    "print(numpy.zeros(shape_integers, int))\n",
    "print(numpy.ones(shape_integers, int))"
   ]
  },
  {
   "cell_type": "markdown",
   "id": "44cff79e",
   "metadata": {},
   "source": [
    "## 6- Eye and Identity"
   ]
  },
  {
   "cell_type": "code",
   "execution_count": 4,
   "id": "8e6aa1dc",
   "metadata": {},
   "outputs": [
    {
     "name": "stdout",
     "output_type": "stream",
     "text": [
      "3 3\n",
      "[[ 1.  0.  0.]\n",
      " [ 0.  1.  0.]\n",
      " [ 0.  0.  1.]]\n"
     ]
    }
   ],
   "source": [
    "import numpy\n",
    "\n",
    "numpy.set_printoptions(legacy='1.13')\n",
    "\n",
    "N, M = input().split()\n",
    "print(numpy.eye(int(N), int(M)))"
   ]
  },
  {
   "cell_type": "markdown",
   "id": "6da912ab",
   "metadata": {},
   "source": [
    "## 7- Array Mathematics"
   ]
  },
  {
   "cell_type": "code",
   "execution_count": 5,
   "id": "1a24e201",
   "metadata": {},
   "outputs": [
    {
     "name": "stdout",
     "output_type": "stream",
     "text": [
      "1 4\n",
      "1 2 3 4\n",
      "5 6 7 8\n",
      "[[ 6  8 10 12]]\n",
      "[[-4 -4 -4 -4]]\n",
      "[[ 5 12 21 32]]\n",
      "[[0 0 0 0]]\n",
      "[[1 2 3 4]]\n",
      "[[    1    64  2187 65536]]\n"
     ]
    }
   ],
   "source": [
    "import numpy\n",
    "\n",
    "N, M = map(int,input().split())\n",
    "A = []\n",
    "for i in range (N) :\n",
    "    A.append(input().split())\n",
    "array_A = numpy.array(A, int)\n",
    "B = []\n",
    "for i in range (N) :\n",
    "    B.append(input().split())\n",
    "array_B = numpy.array(B, int)\n",
    "\n",
    "print(array_A + array_B)\n",
    "print(array_A - array_B)\n",
    "print(array_A * array_B)\n",
    "print(array_A // array_B)\n",
    "print(array_A % array_B)\n",
    "print(array_A ** array_B)"
   ]
  },
  {
   "cell_type": "markdown",
   "id": "b5a6aae8",
   "metadata": {},
   "source": [
    "## 8- Floor, Ceil and Rint"
   ]
  },
  {
   "cell_type": "code",
   "execution_count": 7,
   "id": "3aceed30",
   "metadata": {},
   "outputs": [
    {
     "name": "stdout",
     "output_type": "stream",
     "text": [
      "1.1 2.2 3.3 4.4 5.5 6.6 7.7 8.8 9.9\n",
      "[ 1.  2.  3.  4.  5.  6.  7.  8.  9.]\n",
      "[  2.   3.   4.   5.   6.   7.   8.   9.  10.]\n",
      "[  1.   2.   3.   4.   6.   7.   8.   9.  10.]\n"
     ]
    }
   ],
   "source": [
    "import numpy\n",
    "\n",
    "numpy.set_printoptions(legacy='1.13')\n",
    "\n",
    "array = numpy.array(input().split(),float)\n",
    "print(numpy.floor(array))\n",
    "print(numpy.ceil(array))\n",
    "print(numpy.rint(array))"
   ]
  },
  {
   "cell_type": "markdown",
   "id": "19f42b9d",
   "metadata": {},
   "source": [
    "## 9- Sum and Prod"
   ]
  },
  {
   "cell_type": "code",
   "execution_count": 9,
   "id": "1a117134",
   "metadata": {},
   "outputs": [
    {
     "name": "stdout",
     "output_type": "stream",
     "text": [
      "2 2\n",
      "1 2\n",
      "3 4\n",
      "24\n"
     ]
    }
   ],
   "source": [
    "import numpy\n",
    "\n",
    "N, M = input().split()\n",
    "L = []\n",
    "for i in range (int(N)) :\n",
    "    L += input().split()\n",
    "    \n",
    "array = numpy.array(L, int)\n",
    "array.shape = (int(N), int(M))\n",
    "sum_array = numpy.sum(array, axis = 0)\n",
    "print(numpy.prod(sum_array))"
   ]
  },
  {
   "cell_type": "markdown",
   "id": "2443cf2d",
   "metadata": {},
   "source": [
    "## 10- Min and Max"
   ]
  },
  {
   "cell_type": "code",
   "execution_count": 10,
   "id": "7ab2907a",
   "metadata": {},
   "outputs": [
    {
     "name": "stdout",
     "output_type": "stream",
     "text": [
      "4 2\n",
      "2 5\n",
      "3 7\n",
      "1 3\n",
      "4 0\n",
      "3\n"
     ]
    }
   ],
   "source": [
    "import numpy\n",
    "\n",
    "N, M = input().split()\n",
    "L = []\n",
    "for i in range (int(N))  :\n",
    "    L.append(input().split())\n",
    "array = numpy.array(L, int)\n",
    "array.shape = (int(N), int(M))\n",
    "min_array = numpy.min(array, axis = 1)\n",
    "print(numpy.max(min_array))"
   ]
  },
  {
   "cell_type": "markdown",
   "id": "d77d7e9d",
   "metadata": {},
   "source": [
    "## 11- Mean, Var, and Std"
   ]
  },
  {
   "cell_type": "code",
   "execution_count": 11,
   "id": "ba501f97",
   "metadata": {},
   "outputs": [
    {
     "name": "stdout",
     "output_type": "stream",
     "text": [
      "2 2\n",
      "1 2\n",
      "3 4\n",
      "[ 1.5  3.5]\n",
      "[ 1.  1.]\n",
      "1.11803398875\n"
     ]
    }
   ],
   "source": [
    "import numpy\n",
    "\n",
    "N, M = input().split()\n",
    "L = []\n",
    "for i in range (int(N))  :\n",
    "    L.append(input().split())\n",
    "array = numpy.array(L, int)\n",
    "array.shape = (int(N), int(M))\n",
    "\n",
    "print(numpy.mean(array, axis = 1))\n",
    "print(numpy.var(array, axis = 0))\n",
    "print(round(numpy.std(array), 11))"
   ]
  },
  {
   "cell_type": "markdown",
   "id": "35893659",
   "metadata": {},
   "source": [
    "## 12- Dot and Cross"
   ]
  },
  {
   "cell_type": "code",
   "execution_count": 12,
   "id": "781c2a52",
   "metadata": {},
   "outputs": [
    {
     "name": "stdout",
     "output_type": "stream",
     "text": [
      "2\n",
      "1 2\n",
      "3 4\n",
      "1 2\n",
      "3 4\n",
      "[[ 7 10]\n",
      " [15 22]]\n"
     ]
    }
   ],
   "source": [
    "import numpy\n",
    "\n",
    "N = int(input())\n",
    "\n",
    "A = []\n",
    "for i in range (N) :\n",
    "    A.append(input().split())\n",
    "array_A = numpy.array(A, int)\n",
    "array_A.shape = (N, N)\n",
    "\n",
    "B = []\n",
    "for i in range (N) :\n",
    "    B.append(input().split())\n",
    "array_B = numpy.array(B, int)\n",
    "array_B.shape = (N, N)\n",
    "\n",
    "print(numpy.dot(array_A, array_B))"
   ]
  },
  {
   "cell_type": "markdown",
   "id": "76064a48",
   "metadata": {},
   "source": [
    "## 13- Inner and Outer"
   ]
  },
  {
   "cell_type": "code",
   "execution_count": 13,
   "id": "e4090770",
   "metadata": {},
   "outputs": [
    {
     "name": "stdout",
     "output_type": "stream",
     "text": [
      "0 1\n",
      "2 3\n",
      "3\n",
      "[[0 0]\n",
      " [2 3]]\n"
     ]
    }
   ],
   "source": [
    "import numpy\n",
    "\n",
    "array_A = numpy.array(input().split(), int)\n",
    "array_B = numpy.array(input().split(), int)\n",
    "print(numpy.inner(array_A, array_B))\n",
    "print(numpy.outer(array_A, array_B))"
   ]
  },
  {
   "cell_type": "markdown",
   "id": "0c463cea",
   "metadata": {},
   "source": [
    "## 14- Polynomials"
   ]
  },
  {
   "cell_type": "code",
   "execution_count": 14,
   "id": "999131ef",
   "metadata": {},
   "outputs": [
    {
     "name": "stdout",
     "output_type": "stream",
     "text": [
      "1.1 2 3\n",
      "0\n",
      "3.0\n"
     ]
    }
   ],
   "source": [
    "import numpy\n",
    "\n",
    "coefficients = list(map(float,input().split()))\n",
    "x = int(input())\n",
    "print(numpy.polyval(coefficients,x))"
   ]
  },
  {
   "cell_type": "markdown",
   "id": "2535f596",
   "metadata": {},
   "source": [
    "## 15- Linear Algebra"
   ]
  },
  {
   "cell_type": "code",
   "execution_count": 15,
   "id": "fd678062",
   "metadata": {},
   "outputs": [
    {
     "name": "stdout",
     "output_type": "stream",
     "text": [
      "2\n",
      "1.1 1.1\n",
      "1.1 1.1\n",
      "0.0\n"
     ]
    }
   ],
   "source": [
    "import numpy\n",
    "\n",
    "N = int(input())\n",
    "A = []\n",
    "for i in range (N) :\n",
    "    A.append(list(map(float,input().split())))\n",
    "\n",
    "print(round(numpy.linalg.det(A), 2))"
   ]
  }
 ],
 "metadata": {
  "kernelspec": {
   "display_name": "Python 3 (ipykernel)",
   "language": "python",
   "name": "python3"
  },
  "language_info": {
   "codemirror_mode": {
    "name": "ipython",
    "version": 3
   },
   "file_extension": ".py",
   "mimetype": "text/x-python",
   "name": "python",
   "nbconvert_exporter": "python",
   "pygments_lexer": "ipython3",
   "version": "3.8.8"
  }
 },
 "nbformat": 4,
 "nbformat_minor": 5
}
